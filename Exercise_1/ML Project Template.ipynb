{
  "cells": [
    {
      "cell_type": "markdown",
      "metadata": {
        "id": "eMGSaUXIOI3F"
      },
      "source": [
        "# Part A"
      ]
    },
    {
      "cell_type": "markdown",
      "metadata": {
        "id": "FB6iYEhIGN_H"
      },
      "source": [
        "# Import Libraries"
      ]
    },
    {
      "cell_type": "code",
      "execution_count": 2,
      "metadata": {
        "id": "XNSIvZVjGIKt"
      },
      "outputs": [],
      "source": [
        "import pandas as pd\n",
        "import matplotlib.pyplot as plt\n",
        "import numpy as np\n",
        "from sklearn.model_selection import train_test_split\n",
        "from sklearn.linear_model import LogisticRegression\n",
        "from sklearn.metrics import accuracy_score"
      ]
    },
    {
      "cell_type": "markdown",
      "metadata": {
        "id": "wn2-zABwHMtU"
      },
      "source": [
        "# Load Dataset"
      ]
    },
    {
      "cell_type": "code",
      "execution_count": 3,
      "metadata": {
        "colab": {
          "base_uri": "https://localhost:8080/",
          "height": 424
        },
        "id": "mMOpCl4cGRz_",
        "outputId": "b355ec19-e2a1-4129-918a-91e401398b30"
      },
      "outputs": [
        {
          "data": {
            "application/vnd.microsoft.datawrangler.viewer.v0+json": {
              "columns": [
                {
                  "name": "index",
                  "rawType": "int64",
                  "type": "integer"
                },
                {
                  "name": "Pregnancies",
                  "rawType": "int64",
                  "type": "integer"
                },
                {
                  "name": "Glucose",
                  "rawType": "int64",
                  "type": "integer"
                },
                {
                  "name": "BloodPressure",
                  "rawType": "int64",
                  "type": "integer"
                },
                {
                  "name": "SkinThickness",
                  "rawType": "int64",
                  "type": "integer"
                },
                {
                  "name": "Insulin",
                  "rawType": "int64",
                  "type": "integer"
                },
                {
                  "name": "BMI",
                  "rawType": "float64",
                  "type": "float"
                },
                {
                  "name": "DiabetesPedigreeFunction",
                  "rawType": "float64",
                  "type": "float"
                },
                {
                  "name": "Age",
                  "rawType": "int64",
                  "type": "integer"
                },
                {
                  "name": "Outcome",
                  "rawType": "int64",
                  "type": "integer"
                }
              ],
              "ref": "c88e625f-2d20-4e89-a3d2-84fd32896873",
              "rows": [
                [
                  "0",
                  "6",
                  "148",
                  "72",
                  "35",
                  "0",
                  "33.6",
                  "0.627",
                  "50",
                  "1"
                ],
                [
                  "1",
                  "1",
                  "85",
                  "66",
                  "29",
                  "0",
                  "26.6",
                  "0.351",
                  "31",
                  "0"
                ],
                [
                  "2",
                  "8",
                  "183",
                  "64",
                  "0",
                  "0",
                  "23.3",
                  "0.672",
                  "32",
                  "1"
                ],
                [
                  "3",
                  "1",
                  "89",
                  "66",
                  "23",
                  "94",
                  "28.1",
                  "0.167",
                  "21",
                  "0"
                ],
                [
                  "4",
                  "0",
                  "137",
                  "40",
                  "35",
                  "168",
                  "43.1",
                  "2.288",
                  "33",
                  "1"
                ]
              ],
              "shape": {
                "columns": 9,
                "rows": 5
              }
            },
            "text/html": [
              "<div>\n",
              "<style scoped>\n",
              "    .dataframe tbody tr th:only-of-type {\n",
              "        vertical-align: middle;\n",
              "    }\n",
              "\n",
              "    .dataframe tbody tr th {\n",
              "        vertical-align: top;\n",
              "    }\n",
              "\n",
              "    .dataframe thead th {\n",
              "        text-align: right;\n",
              "    }\n",
              "</style>\n",
              "<table border=\"1\" class=\"dataframe\">\n",
              "  <thead>\n",
              "    <tr style=\"text-align: right;\">\n",
              "      <th></th>\n",
              "      <th>Pregnancies</th>\n",
              "      <th>Glucose</th>\n",
              "      <th>BloodPressure</th>\n",
              "      <th>SkinThickness</th>\n",
              "      <th>Insulin</th>\n",
              "      <th>BMI</th>\n",
              "      <th>DiabetesPedigreeFunction</th>\n",
              "      <th>Age</th>\n",
              "      <th>Outcome</th>\n",
              "    </tr>\n",
              "  </thead>\n",
              "  <tbody>\n",
              "    <tr>\n",
              "      <th>0</th>\n",
              "      <td>6</td>\n",
              "      <td>148</td>\n",
              "      <td>72</td>\n",
              "      <td>35</td>\n",
              "      <td>0</td>\n",
              "      <td>33.6</td>\n",
              "      <td>0.627</td>\n",
              "      <td>50</td>\n",
              "      <td>1</td>\n",
              "    </tr>\n",
              "    <tr>\n",
              "      <th>1</th>\n",
              "      <td>1</td>\n",
              "      <td>85</td>\n",
              "      <td>66</td>\n",
              "      <td>29</td>\n",
              "      <td>0</td>\n",
              "      <td>26.6</td>\n",
              "      <td>0.351</td>\n",
              "      <td>31</td>\n",
              "      <td>0</td>\n",
              "    </tr>\n",
              "    <tr>\n",
              "      <th>2</th>\n",
              "      <td>8</td>\n",
              "      <td>183</td>\n",
              "      <td>64</td>\n",
              "      <td>0</td>\n",
              "      <td>0</td>\n",
              "      <td>23.3</td>\n",
              "      <td>0.672</td>\n",
              "      <td>32</td>\n",
              "      <td>1</td>\n",
              "    </tr>\n",
              "    <tr>\n",
              "      <th>3</th>\n",
              "      <td>1</td>\n",
              "      <td>89</td>\n",
              "      <td>66</td>\n",
              "      <td>23</td>\n",
              "      <td>94</td>\n",
              "      <td>28.1</td>\n",
              "      <td>0.167</td>\n",
              "      <td>21</td>\n",
              "      <td>0</td>\n",
              "    </tr>\n",
              "    <tr>\n",
              "      <th>4</th>\n",
              "      <td>0</td>\n",
              "      <td>137</td>\n",
              "      <td>40</td>\n",
              "      <td>35</td>\n",
              "      <td>168</td>\n",
              "      <td>43.1</td>\n",
              "      <td>2.288</td>\n",
              "      <td>33</td>\n",
              "      <td>1</td>\n",
              "    </tr>\n",
              "  </tbody>\n",
              "</table>\n",
              "</div>"
            ],
            "text/plain": [
              "   Pregnancies  Glucose  BloodPressure  SkinThickness  Insulin   BMI  \\\n",
              "0            6      148             72             35        0  33.6   \n",
              "1            1       85             66             29        0  26.6   \n",
              "2            8      183             64              0        0  23.3   \n",
              "3            1       89             66             23       94  28.1   \n",
              "4            0      137             40             35      168  43.1   \n",
              "\n",
              "   DiabetesPedigreeFunction  Age  Outcome  \n",
              "0                     0.627   50        1  \n",
              "1                     0.351   31        0  \n",
              "2                     0.672   32        1  \n",
              "3                     0.167   21        0  \n",
              "4                     2.288   33        1  "
            ]
          },
          "execution_count": 3,
          "metadata": {},
          "output_type": "execute_result"
        }
      ],
      "source": [
        "df = pd.read_csv(\"diabetes.csv\")\n",
        "df.head()"
      ]
    },
    {
      "cell_type": "markdown",
      "metadata": {
        "id": "iZW3w-t2OI3I"
      },
      "source": [
        "# Dataframe Info"
      ]
    },
    {
      "cell_type": "code",
      "execution_count": 4,
      "metadata": {
        "id": "sx0iVfX5OI3I",
        "outputId": "15033d6c-13f3-49bd-93f3-8189e7996663"
      },
      "outputs": [
        {
          "data": {
            "application/vnd.microsoft.datawrangler.viewer.v0+json": {
              "columns": [
                {
                  "name": "index",
                  "rawType": "object",
                  "type": "string"
                },
                {
                  "name": "Pregnancies",
                  "rawType": "float64",
                  "type": "float"
                },
                {
                  "name": "Glucose",
                  "rawType": "float64",
                  "type": "float"
                },
                {
                  "name": "BloodPressure",
                  "rawType": "float64",
                  "type": "float"
                },
                {
                  "name": "SkinThickness",
                  "rawType": "float64",
                  "type": "float"
                },
                {
                  "name": "Insulin",
                  "rawType": "float64",
                  "type": "float"
                },
                {
                  "name": "BMI",
                  "rawType": "float64",
                  "type": "float"
                },
                {
                  "name": "DiabetesPedigreeFunction",
                  "rawType": "float64",
                  "type": "float"
                },
                {
                  "name": "Age",
                  "rawType": "float64",
                  "type": "float"
                },
                {
                  "name": "Outcome",
                  "rawType": "float64",
                  "type": "float"
                }
              ],
              "ref": "fd671441-9d61-401c-a504-4404d6838e02",
              "rows": [
                [
                  "count",
                  "768.0",
                  "768.0",
                  "768.0",
                  "768.0",
                  "768.0",
                  "768.0",
                  "768.0",
                  "768.0",
                  "768.0"
                ],
                [
                  "mean",
                  "3.8450520833333335",
                  "120.89453125",
                  "69.10546875",
                  "20.536458333333332",
                  "79.79947916666667",
                  "31.992578124999998",
                  "0.47187630208333325",
                  "33.240885416666664",
                  "0.3489583333333333"
                ],
                [
                  "std",
                  "3.3695780626988694",
                  "31.97261819513622",
                  "19.355807170644777",
                  "15.952217567727637",
                  "115.24400235133817",
                  "7.884160320375446",
                  "0.3313285950127749",
                  "11.760231540678685",
                  "0.47695137724279896"
                ],
                [
                  "min",
                  "0.0",
                  "0.0",
                  "0.0",
                  "0.0",
                  "0.0",
                  "0.0",
                  "0.078",
                  "21.0",
                  "0.0"
                ],
                [
                  "25%",
                  "1.0",
                  "99.0",
                  "62.0",
                  "0.0",
                  "0.0",
                  "27.3",
                  "0.24375",
                  "24.0",
                  "0.0"
                ],
                [
                  "50%",
                  "3.0",
                  "117.0",
                  "72.0",
                  "23.0",
                  "30.5",
                  "32.0",
                  "0.3725",
                  "29.0",
                  "0.0"
                ],
                [
                  "75%",
                  "6.0",
                  "140.25",
                  "80.0",
                  "32.0",
                  "127.25",
                  "36.6",
                  "0.62625",
                  "41.0",
                  "1.0"
                ],
                [
                  "max",
                  "17.0",
                  "199.0",
                  "122.0",
                  "99.0",
                  "846.0",
                  "67.1",
                  "2.42",
                  "81.0",
                  "1.0"
                ]
              ],
              "shape": {
                "columns": 9,
                "rows": 8
              }
            },
            "text/html": [
              "<div>\n",
              "<style scoped>\n",
              "    .dataframe tbody tr th:only-of-type {\n",
              "        vertical-align: middle;\n",
              "    }\n",
              "\n",
              "    .dataframe tbody tr th {\n",
              "        vertical-align: top;\n",
              "    }\n",
              "\n",
              "    .dataframe thead th {\n",
              "        text-align: right;\n",
              "    }\n",
              "</style>\n",
              "<table border=\"1\" class=\"dataframe\">\n",
              "  <thead>\n",
              "    <tr style=\"text-align: right;\">\n",
              "      <th></th>\n",
              "      <th>Pregnancies</th>\n",
              "      <th>Glucose</th>\n",
              "      <th>BloodPressure</th>\n",
              "      <th>SkinThickness</th>\n",
              "      <th>Insulin</th>\n",
              "      <th>BMI</th>\n",
              "      <th>DiabetesPedigreeFunction</th>\n",
              "      <th>Age</th>\n",
              "      <th>Outcome</th>\n",
              "    </tr>\n",
              "  </thead>\n",
              "  <tbody>\n",
              "    <tr>\n",
              "      <th>count</th>\n",
              "      <td>768.000000</td>\n",
              "      <td>768.000000</td>\n",
              "      <td>768.000000</td>\n",
              "      <td>768.000000</td>\n",
              "      <td>768.000000</td>\n",
              "      <td>768.000000</td>\n",
              "      <td>768.000000</td>\n",
              "      <td>768.000000</td>\n",
              "      <td>768.000000</td>\n",
              "    </tr>\n",
              "    <tr>\n",
              "      <th>mean</th>\n",
              "      <td>3.845052</td>\n",
              "      <td>120.894531</td>\n",
              "      <td>69.105469</td>\n",
              "      <td>20.536458</td>\n",
              "      <td>79.799479</td>\n",
              "      <td>31.992578</td>\n",
              "      <td>0.471876</td>\n",
              "      <td>33.240885</td>\n",
              "      <td>0.348958</td>\n",
              "    </tr>\n",
              "    <tr>\n",
              "      <th>std</th>\n",
              "      <td>3.369578</td>\n",
              "      <td>31.972618</td>\n",
              "      <td>19.355807</td>\n",
              "      <td>15.952218</td>\n",
              "      <td>115.244002</td>\n",
              "      <td>7.884160</td>\n",
              "      <td>0.331329</td>\n",
              "      <td>11.760232</td>\n",
              "      <td>0.476951</td>\n",
              "    </tr>\n",
              "    <tr>\n",
              "      <th>min</th>\n",
              "      <td>0.000000</td>\n",
              "      <td>0.000000</td>\n",
              "      <td>0.000000</td>\n",
              "      <td>0.000000</td>\n",
              "      <td>0.000000</td>\n",
              "      <td>0.000000</td>\n",
              "      <td>0.078000</td>\n",
              "      <td>21.000000</td>\n",
              "      <td>0.000000</td>\n",
              "    </tr>\n",
              "    <tr>\n",
              "      <th>25%</th>\n",
              "      <td>1.000000</td>\n",
              "      <td>99.000000</td>\n",
              "      <td>62.000000</td>\n",
              "      <td>0.000000</td>\n",
              "      <td>0.000000</td>\n",
              "      <td>27.300000</td>\n",
              "      <td>0.243750</td>\n",
              "      <td>24.000000</td>\n",
              "      <td>0.000000</td>\n",
              "    </tr>\n",
              "    <tr>\n",
              "      <th>50%</th>\n",
              "      <td>3.000000</td>\n",
              "      <td>117.000000</td>\n",
              "      <td>72.000000</td>\n",
              "      <td>23.000000</td>\n",
              "      <td>30.500000</td>\n",
              "      <td>32.000000</td>\n",
              "      <td>0.372500</td>\n",
              "      <td>29.000000</td>\n",
              "      <td>0.000000</td>\n",
              "    </tr>\n",
              "    <tr>\n",
              "      <th>75%</th>\n",
              "      <td>6.000000</td>\n",
              "      <td>140.250000</td>\n",
              "      <td>80.000000</td>\n",
              "      <td>32.000000</td>\n",
              "      <td>127.250000</td>\n",
              "      <td>36.600000</td>\n",
              "      <td>0.626250</td>\n",
              "      <td>41.000000</td>\n",
              "      <td>1.000000</td>\n",
              "    </tr>\n",
              "    <tr>\n",
              "      <th>max</th>\n",
              "      <td>17.000000</td>\n",
              "      <td>199.000000</td>\n",
              "      <td>122.000000</td>\n",
              "      <td>99.000000</td>\n",
              "      <td>846.000000</td>\n",
              "      <td>67.100000</td>\n",
              "      <td>2.420000</td>\n",
              "      <td>81.000000</td>\n",
              "      <td>1.000000</td>\n",
              "    </tr>\n",
              "  </tbody>\n",
              "</table>\n",
              "</div>"
            ],
            "text/plain": [
              "       Pregnancies     Glucose  BloodPressure  SkinThickness     Insulin  \\\n",
              "count   768.000000  768.000000     768.000000     768.000000  768.000000   \n",
              "mean      3.845052  120.894531      69.105469      20.536458   79.799479   \n",
              "std       3.369578   31.972618      19.355807      15.952218  115.244002   \n",
              "min       0.000000    0.000000       0.000000       0.000000    0.000000   \n",
              "25%       1.000000   99.000000      62.000000       0.000000    0.000000   \n",
              "50%       3.000000  117.000000      72.000000      23.000000   30.500000   \n",
              "75%       6.000000  140.250000      80.000000      32.000000  127.250000   \n",
              "max      17.000000  199.000000     122.000000      99.000000  846.000000   \n",
              "\n",
              "              BMI  DiabetesPedigreeFunction         Age     Outcome  \n",
              "count  768.000000                768.000000  768.000000  768.000000  \n",
              "mean    31.992578                  0.471876   33.240885    0.348958  \n",
              "std      7.884160                  0.331329   11.760232    0.476951  \n",
              "min      0.000000                  0.078000   21.000000    0.000000  \n",
              "25%     27.300000                  0.243750   24.000000    0.000000  \n",
              "50%     32.000000                  0.372500   29.000000    0.000000  \n",
              "75%     36.600000                  0.626250   41.000000    1.000000  \n",
              "max     67.100000                  2.420000   81.000000    1.000000  "
            ]
          },
          "execution_count": 4,
          "metadata": {},
          "output_type": "execute_result"
        }
      ],
      "source": [
        "df.describe()"
      ]
    },
    {
      "cell_type": "markdown",
      "metadata": {
        "id": "0gl1U4ckOI3J"
      },
      "source": [
        "# Missing Values Check\n",
        "\n",
        "Check that there are not missing or na values.\n",
        "\n",
        "The dataframe inclues 768 rows and each feature includes 768 non-null values."
      ]
    },
    {
      "cell_type": "code",
      "execution_count": 5,
      "metadata": {
        "id": "tOEl9PYLOI3J",
        "outputId": "b74a9847-f048-4bf5-a4f2-11c0f9dcb668"
      },
      "outputs": [
        {
          "name": "stdout",
          "output_type": "stream",
          "text": [
            "<class 'pandas.core.frame.DataFrame'>\n",
            "RangeIndex: 768 entries, 0 to 767\n",
            "Data columns (total 9 columns):\n",
            " #   Column                    Non-Null Count  Dtype  \n",
            "---  ------                    --------------  -----  \n",
            " 0   Pregnancies               768 non-null    int64  \n",
            " 1   Glucose                   768 non-null    int64  \n",
            " 2   BloodPressure             768 non-null    int64  \n",
            " 3   SkinThickness             768 non-null    int64  \n",
            " 4   Insulin                   768 non-null    int64  \n",
            " 5   BMI                       768 non-null    float64\n",
            " 6   DiabetesPedigreeFunction  768 non-null    float64\n",
            " 7   Age                       768 non-null    int64  \n",
            " 8   Outcome                   768 non-null    int64  \n",
            "dtypes: float64(2), int64(7)\n",
            "memory usage: 54.1 KB\n"
          ]
        }
      ],
      "source": [
        "df.info()"
      ]
    },
    {
      "cell_type": "markdown",
      "metadata": {
        "id": "jAhATF8fHlks"
      },
      "source": [
        "# Plot Variables"
      ]
    },
    {
      "cell_type": "code",
      "execution_count": null,
      "metadata": {
        "id": "eTM7VSSnOI3J",
        "outputId": "fb054590-17f0-4252-fece-757a5740133f"
      },
      "outputs": [
        {
          "data": {
            "image/png": "[encoded data removed]",
            "text/plain": [
              "<Figure size 1400x600 with 8 Axes>"
            ]
          },
          "metadata": {},
          "output_type": "display_data"
        },
        {
          "data": {
            "image/png": "[encoded data removed]",
            "text/plain": [
              "<Figure size 1400x600 with 1 Axes>"
            ]
          },
          "metadata": {},
          "output_type": "display_data"
        }
      ],
      "source": [
        "features = [\n",
        "    \"Pregnancies\",\n",
        "    \"Glucose\",\n",
        "    \"BloodPressure\",\n",
        "    \"SkinThickness\",\n",
        "    \"Insulin\",\n",
        "    \"BMI\",\n",
        "    \"DiabetesPedigreeFunction\",\n",
        "    \"Age\",\n",
        "]\n",
        "y = \"Outcome\"\n",
        "df.columns\n",
        "\n",
        "fix, axes = plt.subplots(2, 4, figsize=(14, 6))\n",
        "axes = axes.flatten()\n",
        "for i in range(len(features)):\n",
        "    axes[i].hist(df[features[i]], bins=20)\n",
        "    axes[i].set_title(features[i])\n",
        "    axes[i].set_ylabel(\"Counts\")\n",
        "    axes[i].grid()\n",
        "\n",
        "plt.tight_layout()\n",
        "plt.show()\n",
        "\n",
        "# Count values in 'Outcome' column\n",
        "plt.figure(figsize=(14, 6))\n",
        "df[\"Outcome\"].value_counts().plot(kind=\"bar\")\n",
        "plt.ylabel(\"Counts\")\n",
        "plt.title(\"Outcome\")\n",
        "plt.show()"
      ]
    },
    {
      "cell_type": "markdown",
      "metadata": {
        "id": "3ivVAmPdOI3J"
      },
      "source": [
        "### Ερώτηση 2\n",
        "Αρχικά, παρατηρούμε ότι δεν έχουμε missing values για κανενα απο τα διαθεσιμα features.\n",
        "\n",
        "Παρατηρώντας τις κατανομές των features, βλέπουμε ότι έχουμε 4 features (Pregnancies, Insulin, DiabetesPedigreeFunction, Age) τα οποία δείχνουν να έχουν μια right skewed κατανομη. Όπως βλέπουμε για αυτά τα features, οι περισσότερες τιμές συγκεντρώνονται στα αριστερά του πάνελ κάτι που σημαίνει ότι το δείγμα μας αποτελείται κυρίως απο 'μικρές' τιμές.\n",
        "\n",
        "Για τα features Insulin και SkinThickness βλέπουμε ότι υπάρχει μια μεγάλη συγκέντρωση τιμών στο 0. Αυτό το γεγονός, και δεδομένου ότι μιλάμε για μοντέλα παλινδρόμησης και δεν έχουμε κάνει κάποιον επιπλέον μετασχηματισμό, μπορεί να επηρεάσει αρνητικά τα αποτελέσματα και την εκπαίδευση του μοντέλου, ειδικά για το Insulin το οποίο εμφανίζει και μεγάλη τυπική απόκλιση.\n",
        "\n",
        "Συνεχίζοντας, βλέπουμε ότι υπάρχουν rows με μηδενικό BloodPressure(35 rows), Glucose (5 rows), BMI (11 rows). Έπειτα απο ένα απλό Google Search μάλλον οι συγκεκριμένες γραμμές αφορούν λανθασμένες μετρήσεις καθώς δεν είναι δυνατόν κάποιος/κάποια να έχει μηδενικές τιμές σε αυτά τα features.\n",
        "\n",
        "Παρατηρούμε επίσης ότι τα features Glucose, BloodPressure, SkinThickness, BMI τείνουν να έχουν κανονική κατανομή, κάτι το οποίο θα βοηθήσει το μοντέλο να υπολογίσει καλύτερα και ευκολότερα τα βάρη για κάθε feature.\n",
        "\n",
        "Τέλος παρατηρούμε ότι δεν υπάρχει ίδια αναλογία των κλάσεων στο δείγμα, με την κλάση 0 να έχει παραπάνω εγγραφές απο την κλάση 1.\n",
        "\n",
        "### Ερώτηση 3\n",
        "Όπως αναφέρθηκε και πάνω, το feature Age ακολουθεί μια right skewed κατανομή. Το γεγονός αυτό, δεν μας βοηθάει στη μοντελοποίηση καθώς δείχνει ότι το δείγμα μας δεν είναι αντιπροσωπευτικό αλλά αποτελείται κυρίως απο δεδομένα που αφορούν άτομα νεαρής ηλικίας. Επομένως, το μοντέλο μας θα περιλαμβάνει ενα bias και δεν θα έχει μεγάλη αξιοπιστία στις προβλέψεις για άτομα μεγάλης ηλικίας, αφού δεν είχε αρκετά μεγάλο δείγμα τέτοιων ατόμων για την εκπαίδευσή του.\n"
      ]
    },
    {
      "cell_type": "code",
      "execution_count": null,
      "metadata": {
        "id": "aw6wEVFSOI3K",
        "outputId": "82157918-d9f0-4057-a713-221ab161c995"
      },
      "outputs": [
        {
          "data": {
            "image/png": "[encoded data removed]",
            "text/plain": [
              "<Figure size 1200x400 with 1 Axes>"
            ]
          },
          "metadata": {},
          "output_type": "display_data"
        },
        {
          "name": "stdout",
          "output_type": "stream",
          "text": [
            "Mean value for class '0': 109.98 - Mean value for class '1': 141.25746268656715\n",
            "Median value for class '0': 107.0 - Median value for class '1': 140.0\n",
            "Max value for class '0': 197 - Max value for class '1': 199\n"
          ]
        }
      ],
      "source": [
        "plt.figure(figsize=(12, 4))\n",
        "plt.hist(df[df[\"Outcome\"] == 0][\"Glucose\"], alpha=0.6)\n",
        "plt.hist(df[df[\"Outcome\"] == 1][\"Glucose\"], alpha=0.6)\n",
        "plt.ylabel(\"Counts\")\n",
        "plt.xlabel(\"Glucose\")\n",
        "plt.title(\"Glucose histogram per class. Blue for Diabetic - Orange for Non-Diabetic\")\n",
        "plt.show()\n",
        "\n",
        "print(\n",
        "    f\"Mean value for class '0': {df[df['Outcome'] == 0]['Glucose'].mean()} - Mean value for class '1': {df[df['Outcome'] == 1]['Glucose'].mean()}\"\n",
        ")\n",
        "print(\n",
        "    f\"Median value for class '0': {df[df['Outcome'] == 0]['Glucose'].median()} - Median value for class '1': {df[df['Outcome'] == 1]['Glucose'].median()}\"\n",
        ")\n",
        "print(\n",
        "    f\"Max value for class '0': {df[df['Outcome'] == 0]['Glucose'].max()} - Max value for class '1': {df[df['Outcome'] == 1]['Glucose'].max()}\"\n",
        ")\n"
      ]
    },
    {
      "cell_type": "markdown",
      "metadata": {
        "id": "0O0RuAPZOI3K"
      },
      "source": [
        "### Ερώτηση 4\n",
        "Από το παραπάνω γράφημα μπορούμε να επιβεβαιώσουμε (με κάποια επιφύλαξη) τη συνεπαγωγή των κλινικών μελετών. Αρχικά, παρατηρούμε ότι η κατανομή της γλυκόζης και για τις δύο κλάσεις προσεγγίζει την κανονική κατανομή, με το φαινόμενο αυτό να είναι πιο εμφανές για την κλάση 0. Ωστόσο, παρατηρούμε ότι η κλάση μηδέν συγκεντρώνεται γύρω απο τις τιμές 100-110 και η κλάση 1 έχει μοιραστεί ομοιόμορφα στις τιμές 100-200. Επίσης, παρατηρούμε ότι για τιμές μεγαλύτερες του 150, έχουμε πολλές εγγραφές της κλάσης 1 και λίγες εγγραφές της κλάσης 0. Επομένως, μπορούμε να επιβεβαιώσουμε τις κλινικές μελέτες. Κάτι που επίσης επιβεβαιώνει τις κλινικές μελέτες, είναι οι στατιστικές τιμές της γλυκόζης για τις δύο κλάσεις όπου βλέπουμε πως και η μέση τιμή, η διάμεσος και η μέγιστη τιμή για την κλάση 0 είναι όλες μικρότερες απότι για την κλάση 1. "
      ]
    },
    {
      "cell_type": "markdown",
      "metadata": {
        "id": "Yccj5-EWH4BL"
      },
      "source": [
        "# Logistic Regression Model Training"
      ]
    },
    {
      "cell_type": "code",
      "execution_count": 25,
      "metadata": {
        "colab": {
          "base_uri": "https://localhost:8080/"
        },
        "id": "bwXe_0y1HXxk",
        "outputId": "3e965e12-4574-4d4f-c4b4-0b199aafba19"
      },
      "outputs": [
        {
          "name": "stdout",
          "output_type": "stream",
          "text": [
            "Train set - Rows: 537 - Features: 8\n",
            "Test set - Rows: 231 - Features: 8\n"
          ]
        },
        {
          "data": {
            "text/html": [
              "<style>#sk-container-id-2 {\n",
              "  /* Definition of color scheme common for light and dark mode */\n",
              "  --sklearn-color-text: #000;\n",
              "  --sklearn-color-text-muted: #666;\n",
              "  --sklearn-color-line: gray;\n",
              "  /* Definition of color scheme for unfitted estimators */\n",
              "  --sklearn-color-unfitted-level-0: #fff5e6;\n",
              "  --sklearn-color-unfitted-level-1: #f6e4d2;\n",
              "  --sklearn-color-unfitted-level-2: #ffe0b3;\n",
              "  --sklearn-color-unfitted-level-3: chocolate;\n",
              "  /* Definition of color scheme for fitted estimators */\n",
              "  --sklearn-color-fitted-level-0: #f0f8ff;\n",
              "  --sklearn-color-fitted-level-1: #d4ebff;\n",
              "  --sklearn-color-fitted-level-2: #b3dbfd;\n",
              "  --sklearn-color-fitted-level-3: cornflowerblue;\n",
              "\n",
              "  /* Specific color for light theme */\n",
              "  --sklearn-color-text-on-default-background: var(--sg-text-color, var(--theme-code-foreground, var(--jp-content-font-color1, black)));\n",
              "  --sklearn-color-background: var(--sg-background-color, var(--theme-background, var(--jp-layout-color0, white)));\n",
              "  --sklearn-color-border-box: var(--sg-text-color, var(--theme-code-foreground, var(--jp-content-font-color1, black)));\n",
              "  --sklearn-color-icon: #696969;\n",
              "\n",
              "  @media (prefers-color-scheme: dark) {\n",
              "    /* Redefinition of color scheme for dark theme */\n",
              "    --sklearn-color-text-on-default-background: var(--sg-text-color, var(--theme-code-foreground, var(--jp-content-font-color1, white)));\n",
              "    --sklearn-color-background: var(--sg-background-color, var(--theme-background, var(--jp-layout-color0, #111)));\n",
              "    --sklearn-color-border-box: var(--sg-text-color, var(--theme-code-foreground, var(--jp-content-font-color1, white)));\n",
              "    --sklearn-color-icon: #878787;\n",
              "  }\n",
              "}\n",
              "\n",
              "#sk-container-id-2 {\n",
              "  color: var(--sklearn-color-text);\n",
              "}\n",
              "\n",
              "#sk-container-id-2 pre {\n",
              "  padding: 0;\n",
              "}\n",
              "\n",
              "#sk-container-id-2 input.sk-hidden--visually {\n",
              "  border: 0;\n",
              "  clip: rect(1px 1px 1px 1px);\n",
              "  clip: rect(1px, 1px, 1px, 1px);\n",
              "  height: 1px;\n",
              "  margin: -1px;\n",
              "  overflow: hidden;\n",
              "  padding: 0;\n",
              "  position: absolute;\n",
              "  width: 1px;\n",
              "}\n",
              "\n",
              "#sk-container-id-2 div.sk-dashed-wrapped {\n",
              "  border: 1px dashed var(--sklearn-color-line);\n",
              "  margin: 0 0.4em 0.5em 0.4em;\n",
              "  box-sizing: border-box;\n",
              "  padding-bottom: 0.4em;\n",
              "  background-color: var(--sklearn-color-background);\n",
              "}\n",
              "\n",
              "#sk-container-id-2 div.sk-container {\n",
              "  /* jupyter's `normalize.less` sets `[hidden] { display: none; }`\n",
              "     but bootstrap.min.css set `[hidden] { display: none !important; }`\n",
              "     so we also need the `!important` here to be able to override the\n",
              "     default hidden behavior on the sphinx rendered scikit-learn.org.\n",
              "     See: https://github.com/scikit-learn/scikit-learn/issues/21755 */\n",
              "  display: inline-block !important;\n",
              "  position: relative;\n",
              "}\n",
              "\n",
              "#sk-container-id-2 div.sk-text-repr-fallback {\n",
              "  display: none;\n",
              "}\n",
              "\n",
              "div.sk-parallel-item,\n",
              "div.sk-serial,\n",
              "div.sk-item {\n",
              "  /* draw centered vertical line to link estimators */\n",
              "  background-image: linear-gradient(var(--sklearn-color-text-on-default-background), var(--sklearn-color-text-on-default-background));\n",
              "  background-size: 2px 100%;\n",
              "  background-repeat: no-repeat;\n",
              "  background-position: center center;\n",
              "}\n",
              "\n",
              "/* Parallel-specific style estimator block */\n",
              "\n",
              "#sk-container-id-2 div.sk-parallel-item::after {\n",
              "  content: \"\";\n",
              "  width: 100%;\n",
              "  border-bottom: 2px solid var(--sklearn-color-text-on-default-background);\n",
              "  flex-grow: 1;\n",
              "}\n",
              "\n",
              "#sk-container-id-2 div.sk-parallel {\n",
              "  display: flex;\n",
              "  align-items: stretch;\n",
              "  justify-content: center;\n",
              "  background-color: var(--sklearn-color-background);\n",
              "  position: relative;\n",
              "}\n",
              "\n",
              "#sk-container-id-2 div.sk-parallel-item {\n",
              "  display: flex;\n",
              "  flex-direction: column;\n",
              "}\n",
              "\n",
              "#sk-container-id-2 div.sk-parallel-item:first-child::after {\n",
              "  align-self: flex-end;\n",
              "  width: 50%;\n",
              "}\n",
              "\n",
              "#sk-container-id-2 div.sk-parallel-item:last-child::after {\n",
              "  align-self: flex-start;\n",
              "  width: 50%;\n",
              "}\n",
              "\n",
              "#sk-container-id-2 div.sk-parallel-item:only-child::after {\n",
              "  width: 0;\n",
              "}\n",
              "\n",
              "/* Serial-specific style estimator block */\n",
              "\n",
              "#sk-container-id-2 div.sk-serial {\n",
              "  display: flex;\n",
              "  flex-direction: column;\n",
              "  align-items: center;\n",
              "  background-color: var(--sklearn-color-background);\n",
              "  padding-right: 1em;\n",
              "  padding-left: 1em;\n",
              "}\n",
              "\n",
              "\n",
              "/* Toggleable style: style used for estimator/Pipeline/ColumnTransformer box that is\n",
              "clickable and can be expanded/collapsed.\n",
              "- Pipeline and ColumnTransformer use this feature and define the default style\n",
              "- Estimators will overwrite some part of the style using the `sk-estimator` class\n",
              "*/\n",
              "\n",
              "/* Pipeline and ColumnTransformer style (default) */\n",
              "\n",
              "#sk-container-id-2 div.sk-toggleable {\n",
              "  /* Default theme specific background. It is overwritten whether we have a\n",
              "  specific estimator or a Pipeline/ColumnTransformer */\n",
              "  background-color: var(--sklearn-color-background);\n",
              "}\n",
              "\n",
              "/* Toggleable label */\n",
              "#sk-container-id-2 label.sk-toggleable__label {\n",
              "  cursor: pointer;\n",
              "  display: flex;\n",
              "  width: 100%;\n",
              "  margin-bottom: 0;\n",
              "  padding: 0.5em;\n",
              "  box-sizing: border-box;\n",
              "  text-align: center;\n",
              "  align-items: start;\n",
              "  justify-content: space-between;\n",
              "  gap: 0.5em;\n",
              "}\n",
              "\n",
              "#sk-container-id-2 label.sk-toggleable__label .caption {\n",
              "  font-size: 0.6rem;\n",
              "  font-weight: lighter;\n",
              "  color: var(--sklearn-color-text-muted);\n",
              "}\n",
              "\n",
              "#sk-container-id-2 label.sk-toggleable__label-arrow:before {\n",
              "  /* Arrow on the left of the label */\n",
              "  content: \"▸\";\n",
              "  float: left;\n",
              "  margin-right: 0.25em;\n",
              "  color: var(--sklearn-color-icon);\n",
              "}\n",
              "\n",
              "#sk-container-id-2 label.sk-toggleable__label-arrow:hover:before {\n",
              "  color: var(--sklearn-color-text);\n",
              "}\n",
              "\n",
              "/* Toggleable content - dropdown */\n",
              "\n",
              "#sk-container-id-2 div.sk-toggleable__content {\n",
              "  display: none;\n",
              "  text-align: left;\n",
              "  /* unfitted */\n",
              "  background-color: var(--sklearn-color-unfitted-level-0);\n",
              "}\n",
              "\n",
              "#sk-container-id-2 div.sk-toggleable__content.fitted {\n",
              "  /* fitted */\n",
              "  background-color: var(--sklearn-color-fitted-level-0);\n",
              "}\n",
              "\n",
              "#sk-container-id-2 div.sk-toggleable__content pre {\n",
              "  margin: 0.2em;\n",
              "  border-radius: 0.25em;\n",
              "  color: var(--sklearn-color-text);\n",
              "  /* unfitted */\n",
              "  background-color: var(--sklearn-color-unfitted-level-0);\n",
              "}\n",
              "\n",
              "#sk-container-id-2 div.sk-toggleable__content.fitted pre {\n",
              "  /* unfitted */\n",
              "  background-color: var(--sklearn-color-fitted-level-0);\n",
              "}\n",
              "\n",
              "#sk-container-id-2 input.sk-toggleable__control:checked~div.sk-toggleable__content {\n",
              "  /* Expand drop-down */\n",
              "  display: block;\n",
              "  width: 100%;\n",
              "  overflow: visible;\n",
              "}\n",
              "\n",
              "#sk-container-id-2 input.sk-toggleable__control:checked~label.sk-toggleable__label-arrow:before {\n",
              "  content: \"▾\";\n",
              "}\n",
              "\n",
              "/* Pipeline/ColumnTransformer-specific style */\n",
              "\n",
              "#sk-container-id-2 div.sk-label input.sk-toggleable__control:checked~label.sk-toggleable__label {\n",
              "  color: var(--sklearn-color-text);\n",
              "  background-color: var(--sklearn-color-unfitted-level-2);\n",
              "}\n",
              "\n",
              "#sk-container-id-2 div.sk-label.fitted input.sk-toggleable__control:checked~label.sk-toggleable__label {\n",
              "  background-color: var(--sklearn-color-fitted-level-2);\n",
              "}\n",
              "\n",
              "/* Estimator-specific style */\n",
              "\n",
              "/* Colorize estimator box */\n",
              "#sk-container-id-2 div.sk-estimator input.sk-toggleable__control:checked~label.sk-toggleable__label {\n",
              "  /* unfitted */\n",
              "  background-color: var(--sklearn-color-unfitted-level-2);\n",
              "}\n",
              "\n",
              "#sk-container-id-2 div.sk-estimator.fitted input.sk-toggleable__control:checked~label.sk-toggleable__label {\n",
              "  /* fitted */\n",
              "  background-color: var(--sklearn-color-fitted-level-2);\n",
              "}\n",
              "\n",
              "#sk-container-id-2 div.sk-label label.sk-toggleable__label,\n",
              "#sk-container-id-2 div.sk-label label {\n",
              "  /* The background is the default theme color */\n",
              "  color: var(--sklearn-color-text-on-default-background);\n",
              "}\n",
              "\n",
              "/* On hover, darken the color of the background */\n",
              "#sk-container-id-2 div.sk-label:hover label.sk-toggleable__label {\n",
              "  color: var(--sklearn-color-text);\n",
              "  background-color: var(--sklearn-color-unfitted-level-2);\n",
              "}\n",
              "\n",
              "/* Label box, darken color on hover, fitted */\n",
              "#sk-container-id-2 div.sk-label.fitted:hover label.sk-toggleable__label.fitted {\n",
              "  color: var(--sklearn-color-text);\n",
              "  background-color: var(--sklearn-color-fitted-level-2);\n",
              "}\n",
              "\n",
              "/* Estimator label */\n",
              "\n",
              "#sk-container-id-2 div.sk-label label {\n",
              "  font-family: monospace;\n",
              "  font-weight: bold;\n",
              "  display: inline-block;\n",
              "  line-height: 1.2em;\n",
              "}\n",
              "\n",
              "#sk-container-id-2 div.sk-label-container {\n",
              "  text-align: center;\n",
              "}\n",
              "\n",
              "/* Estimator-specific */\n",
              "#sk-container-id-2 div.sk-estimator {\n",
              "  font-family: monospace;\n",
              "  border: 1px dotted var(--sklearn-color-border-box);\n",
              "  border-radius: 0.25em;\n",
              "  box-sizing: border-box;\n",
              "  margin-bottom: 0.5em;\n",
              "  /* unfitted */\n",
              "  background-color: var(--sklearn-color-unfitted-level-0);\n",
              "}\n",
              "\n",
              "#sk-container-id-2 div.sk-estimator.fitted {\n",
              "  /* fitted */\n",
              "  background-color: var(--sklearn-color-fitted-level-0);\n",
              "}\n",
              "\n",
              "/* on hover */\n",
              "#sk-container-id-2 div.sk-estimator:hover {\n",
              "  /* unfitted */\n",
              "  background-color: var(--sklearn-color-unfitted-level-2);\n",
              "}\n",
              "\n",
              "#sk-container-id-2 div.sk-estimator.fitted:hover {\n",
              "  /* fitted */\n",
              "  background-color: var(--sklearn-color-fitted-level-2);\n",
              "}\n",
              "\n",
              "/* Specification for estimator info (e.g. \"i\" and \"?\") */\n",
              "\n",
              "/* Common style for \"i\" and \"?\" */\n",
              "\n",
              ".sk-estimator-doc-link,\n",
              "a:link.sk-estimator-doc-link,\n",
              "a:visited.sk-estimator-doc-link {\n",
              "  float: right;\n",
              "  font-size: smaller;\n",
              "  line-height: 1em;\n",
              "  font-family: monospace;\n",
              "  background-color: var(--sklearn-color-background);\n",
              "  border-radius: 1em;\n",
              "  height: 1em;\n",
              "  width: 1em;\n",
              "  text-decoration: none !important;\n",
              "  margin-left: 0.5em;\n",
              "  text-align: center;\n",
              "  /* unfitted */\n",
              "  border: var(--sklearn-color-unfitted-level-1) 1pt solid;\n",
              "  color: var(--sklearn-color-unfitted-level-1);\n",
              "}\n",
              "\n",
              ".sk-estimator-doc-link.fitted,\n",
              "a:link.sk-estimator-doc-link.fitted,\n",
              "a:visited.sk-estimator-doc-link.fitted {\n",
              "  /* fitted */\n",
              "  border: var(--sklearn-color-fitted-level-1) 1pt solid;\n",
              "  color: var(--sklearn-color-fitted-level-1);\n",
              "}\n",
              "\n",
              "/* On hover */\n",
              "div.sk-estimator:hover .sk-estimator-doc-link:hover,\n",
              ".sk-estimator-doc-link:hover,\n",
              "div.sk-label-container:hover .sk-estimator-doc-link:hover,\n",
              ".sk-estimator-doc-link:hover {\n",
              "  /* unfitted */\n",
              "  background-color: var(--sklearn-color-unfitted-level-3);\n",
              "  color: var(--sklearn-color-background);\n",
              "  text-decoration: none;\n",
              "}\n",
              "\n",
              "div.sk-estimator.fitted:hover .sk-estimator-doc-link.fitted:hover,\n",
              ".sk-estimator-doc-link.fitted:hover,\n",
              "div.sk-label-container:hover .sk-estimator-doc-link.fitted:hover,\n",
              ".sk-estimator-doc-link.fitted:hover {\n",
              "  /* fitted */\n",
              "  background-color: var(--sklearn-color-fitted-level-3);\n",
              "  color: var(--sklearn-color-background);\n",
              "  text-decoration: none;\n",
              "}\n",
              "\n",
              "/* Span, style for the box shown on hovering the info icon */\n",
              ".sk-estimator-doc-link span {\n",
              "  display: none;\n",
              "  z-index: 9999;\n",
              "  position: relative;\n",
              "  font-weight: normal;\n",
              "  right: .2ex;\n",
              "  padding: .5ex;\n",
              "  margin: .5ex;\n",
              "  width: min-content;\n",
              "  min-width: 20ex;\n",
              "  max-width: 50ex;\n",
              "  color: var(--sklearn-color-text);\n",
              "  box-shadow: 2pt 2pt 4pt #999;\n",
              "  /* unfitted */\n",
              "  background: var(--sklearn-color-unfitted-level-0);\n",
              "  border: .5pt solid var(--sklearn-color-unfitted-level-3);\n",
              "}\n",
              "\n",
              ".sk-estimator-doc-link.fitted span {\n",
              "  /* fitted */\n",
              "  background: var(--sklearn-color-fitted-level-0);\n",
              "  border: var(--sklearn-color-fitted-level-3);\n",
              "}\n",
              "\n",
              ".sk-estimator-doc-link:hover span {\n",
              "  display: block;\n",
              "}\n",
              "\n",
              "/* \"?\"-specific style due to the `<a>` HTML tag */\n",
              "\n",
              "#sk-container-id-2 a.estimator_doc_link {\n",
              "  float: right;\n",
              "  font-size: 1rem;\n",
              "  line-height: 1em;\n",
              "  font-family: monospace;\n",
              "  background-color: var(--sklearn-color-background);\n",
              "  border-radius: 1rem;\n",
              "  height: 1rem;\n",
              "  width: 1rem;\n",
              "  text-decoration: none;\n",
              "  /* unfitted */\n",
              "  color: var(--sklearn-color-unfitted-level-1);\n",
              "  border: var(--sklearn-color-unfitted-level-1) 1pt solid;\n",
              "}\n",
              "\n",
              "#sk-container-id-2 a.estimator_doc_link.fitted {\n",
              "  /* fitted */\n",
              "  border: var(--sklearn-color-fitted-level-1) 1pt solid;\n",
              "  color: var(--sklearn-color-fitted-level-1);\n",
              "}\n",
              "\n",
              "/* On hover */\n",
              "#sk-container-id-2 a.estimator_doc_link:hover {\n",
              "  /* unfitted */\n",
              "  background-color: var(--sklearn-color-unfitted-level-3);\n",
              "  color: var(--sklearn-color-background);\n",
              "  text-decoration: none;\n",
              "}\n",
              "\n",
              "#sk-container-id-2 a.estimator_doc_link.fitted:hover {\n",
              "  /* fitted */\n",
              "  background-color: var(--sklearn-color-fitted-level-3);\n",
              "}\n",
              "\n",
              ".estimator-table summary {\n",
              "    padding: .5rem;\n",
              "    font-family: monospace;\n",
              "    cursor: pointer;\n",
              "}\n",
              "\n",
              ".estimator-table details[open] {\n",
              "    padding-left: 0.1rem;\n",
              "    padding-right: 0.1rem;\n",
              "    padding-bottom: 0.3rem;\n",
              "}\n",
              "\n",
              ".estimator-table .parameters-table {\n",
              "    margin-left: auto !important;\n",
              "    margin-right: auto !important;\n",
              "}\n",
              "\n",
              ".estimator-table .parameters-table tr:nth-child(odd) {\n",
              "    background-color: #fff;\n",
              "}\n",
              "\n",
              ".estimator-table .parameters-table tr:nth-child(even) {\n",
              "    background-color: #f6f6f6;\n",
              "}\n",
              "\n",
              ".estimator-table .parameters-table tr:hover {\n",
              "    background-color: #e0e0e0;\n",
              "}\n",
              "\n",
              ".estimator-table table td {\n",
              "    border: 1px solid rgba(106, 105, 104, 0.232);\n",
              "}\n",
              "\n",
              ".user-set td {\n",
              "    color:rgb(255, 94, 0);\n",
              "    text-align: left;\n",
              "}\n",
              "\n",
              ".user-set td.value pre {\n",
              "    color:rgb(255, 94, 0) !important;\n",
              "    background-color: transparent !important;\n",
              "}\n",
              "\n",
              ".default td {\n",
              "    color: black;\n",
              "    text-align: left;\n",
              "}\n",
              "\n",
              ".user-set td i,\n",
              ".default td i {\n",
              "    color: black;\n",
              "}\n",
              "\n",
              ".copy-paste-icon {\n",
              "    background-image: url(data:image/svg+xml;base64,PHN2ZyB4bWxucz0iaHR0cDovL3d3dy53My5vcmcvMjAwMC9zdmciIHZpZXdCb3g9IjAgMCA0NDggNTEyIj48IS0tIUZvbnQgQXdlc29tZSBGcmVlIDYuNy4yIGJ5IEBmb250YXdlc29tZSAtIGh0dHBzOi8vZm9udGF3ZXNvbWUuY29tIExpY2Vuc2UgLSBodHRwczovL2ZvbnRhd2Vzb21lLmNvbS9saWNlbnNlL2ZyZWUgQ29weXJpZ2h0IDIwMjUgRm9udGljb25zLCBJbmMuLS0+PHBhdGggZD0iTTIwOCAwTDMzMi4xIDBjMTIuNyAwIDI0LjkgNS4xIDMzLjkgMTQuMWw2Ny45IDY3LjljOSA5IDE0LjEgMjEuMiAxNC4xIDMzLjlMNDQ4IDMzNmMwIDI2LjUtMjEuNSA0OC00OCA0OGwtMTkyIDBjLTI2LjUgMC00OC0yMS41LTQ4LTQ4bDAtMjg4YzAtMjYuNSAyMS41LTQ4IDQ4LTQ4ek00OCAxMjhsODAgMCAwIDY0LTY0IDAgMCAyNTYgMTkyIDAgMC0zMiA2NCAwIDAgNDhjMCAyNi41LTIxLjUgNDgtNDggNDhMNDggNTEyYy0yNi41IDAtNDgtMjEuNS00OC00OEwwIDE3NmMwLTI2LjUgMjEuNS00OCA0OC00OHoiLz48L3N2Zz4=);\n",
              "    background-repeat: no-repeat;\n",
              "    background-size: 14px 14px;\n",
              "    background-position: 0;\n",
              "    display: inline-block;\n",
              "    width: 14px;\n",
              "    height: 14px;\n",
              "    cursor: pointer;\n",
              "}\n",
              "</style><body><div id=\"sk-container-id-2\" class=\"sk-top-container\"><div class=\"sk-text-repr-fallback\"><pre>LogisticRegression(max_iter=1000, random_state=0)</pre><b>In a Jupyter environment, please rerun this cell to show the HTML representation or trust the notebook. <br />On GitHub, the HTML representation is unable to render, please try loading this page with nbviewer.org.</b></div><div class=\"sk-container\" hidden><div class=\"sk-item\"><div class=\"sk-estimator fitted sk-toggleable\"><input class=\"sk-toggleable__control sk-hidden--visually\" id=\"sk-estimator-id-2\" type=\"checkbox\" checked><label for=\"sk-estimator-id-2\" class=\"sk-toggleable__label fitted sk-toggleable__label-arrow\"><div><div>LogisticRegression</div></div><div><a class=\"sk-estimator-doc-link fitted\" rel=\"noreferrer\" target=\"_blank\" href=\"https://scikit-learn.org/1.7/modules/generated/sklearn.linear_model.LogisticRegression.html\">?<span>Documentation for LogisticRegression</span></a><span class=\"sk-estimator-doc-link fitted\">i<span>Fitted</span></span></div></label><div class=\"sk-toggleable__content fitted\" data-param-prefix=\"\">\n",
              "        <div class=\"estimator-table\">\n",
              "            <details>\n",
              "                <summary>Parameters</summary>\n",
              "                <table class=\"parameters-table\">\n",
              "                  <tbody>\n",
              "                    \n",
              "        <tr class=\"default\">\n",
              "            <td><i class=\"copy-paste-icon\"\n",
              "                 onclick=\"copyToClipboard('penalty',\n",
              "                          this.parentElement.nextElementSibling)\"\n",
              "            ></i></td>\n",
              "            <td class=\"param\">penalty&nbsp;</td>\n",
              "            <td class=\"value\">&#x27;l2&#x27;</td>\n",
              "        </tr>\n",
              "    \n",
              "\n",
              "        <tr class=\"default\">\n",
              "            <td><i class=\"copy-paste-icon\"\n",
              "                 onclick=\"copyToClipboard('dual',\n",
              "                          this.parentElement.nextElementSibling)\"\n",
              "            ></i></td>\n",
              "            <td class=\"param\">dual&nbsp;</td>\n",
              "            <td class=\"value\">False</td>\n",
              "        </tr>\n",
              "    \n",
              "\n",
              "        <tr class=\"default\">\n",
              "            <td><i class=\"copy-paste-icon\"\n",
              "                 onclick=\"copyToClipboard('tol',\n",
              "                          this.parentElement.nextElementSibling)\"\n",
              "            ></i></td>\n",
              "            <td class=\"param\">tol&nbsp;</td>\n",
              "            <td class=\"value\">0.0001</td>\n",
              "        </tr>\n",
              "    \n",
              "\n",
              "        <tr class=\"default\">\n",
              "            <td><i class=\"copy-paste-icon\"\n",
              "                 onclick=\"copyToClipboard('C',\n",
              "                          this.parentElement.nextElementSibling)\"\n",
              "            ></i></td>\n",
              "            <td class=\"param\">C&nbsp;</td>\n",
              "            <td class=\"value\">1.0</td>\n",
              "        </tr>\n",
              "    \n",
              "\n",
              "        <tr class=\"default\">\n",
              "            <td><i class=\"copy-paste-icon\"\n",
              "                 onclick=\"copyToClipboard('fit_intercept',\n",
              "                          this.parentElement.nextElementSibling)\"\n",
              "            ></i></td>\n",
              "            <td class=\"param\">fit_intercept&nbsp;</td>\n",
              "            <td class=\"value\">True</td>\n",
              "        </tr>\n",
              "    \n",
              "\n",
              "        <tr class=\"default\">\n",
              "            <td><i class=\"copy-paste-icon\"\n",
              "                 onclick=\"copyToClipboard('intercept_scaling',\n",
              "                          this.parentElement.nextElementSibling)\"\n",
              "            ></i></td>\n",
              "            <td class=\"param\">intercept_scaling&nbsp;</td>\n",
              "            <td class=\"value\">1</td>\n",
              "        </tr>\n",
              "    \n",
              "\n",
              "        <tr class=\"default\">\n",
              "            <td><i class=\"copy-paste-icon\"\n",
              "                 onclick=\"copyToClipboard('class_weight',\n",
              "                          this.parentElement.nextElementSibling)\"\n",
              "            ></i></td>\n",
              "            <td class=\"param\">class_weight&nbsp;</td>\n",
              "            <td class=\"value\">None</td>\n",
              "        </tr>\n",
              "    \n",
              "\n",
              "        <tr class=\"user-set\">\n",
              "            <td><i class=\"copy-paste-icon\"\n",
              "                 onclick=\"copyToClipboard('random_state',\n",
              "                          this.parentElement.nextElementSibling)\"\n",
              "            ></i></td>\n",
              "            <td class=\"param\">random_state&nbsp;</td>\n",
              "            <td class=\"value\">0</td>\n",
              "        </tr>\n",
              "    \n",
              "\n",
              "        <tr class=\"default\">\n",
              "            <td><i class=\"copy-paste-icon\"\n",
              "                 onclick=\"copyToClipboard('solver',\n",
              "                          this.parentElement.nextElementSibling)\"\n",
              "            ></i></td>\n",
              "            <td class=\"param\">solver&nbsp;</td>\n",
              "            <td class=\"value\">&#x27;lbfgs&#x27;</td>\n",
              "        </tr>\n",
              "    \n",
              "\n",
              "        <tr class=\"user-set\">\n",
              "            <td><i class=\"copy-paste-icon\"\n",
              "                 onclick=\"copyToClipboard('max_iter',\n",
              "                          this.parentElement.nextElementSibling)\"\n",
              "            ></i></td>\n",
              "            <td class=\"param\">max_iter&nbsp;</td>\n",
              "            <td class=\"value\">1000</td>\n",
              "        </tr>\n",
              "    \n",
              "\n",
              "        <tr class=\"default\">\n",
              "            <td><i class=\"copy-paste-icon\"\n",
              "                 onclick=\"copyToClipboard('multi_class',\n",
              "                          this.parentElement.nextElementSibling)\"\n",
              "            ></i></td>\n",
              "            <td class=\"param\">multi_class&nbsp;</td>\n",
              "            <td class=\"value\">&#x27;deprecated&#x27;</td>\n",
              "        </tr>\n",
              "    \n",
              "\n",
              "        <tr class=\"default\">\n",
              "            <td><i class=\"copy-paste-icon\"\n",
              "                 onclick=\"copyToClipboard('verbose',\n",
              "                          this.parentElement.nextElementSibling)\"\n",
              "            ></i></td>\n",
              "            <td class=\"param\">verbose&nbsp;</td>\n",
              "            <td class=\"value\">0</td>\n",
              "        </tr>\n",
              "    \n",
              "\n",
              "        <tr class=\"default\">\n",
              "            <td><i class=\"copy-paste-icon\"\n",
              "                 onclick=\"copyToClipboard('warm_start',\n",
              "                          this.parentElement.nextElementSibling)\"\n",
              "            ></i></td>\n",
              "            <td class=\"param\">warm_start&nbsp;</td>\n",
              "            <td class=\"value\">False</td>\n",
              "        </tr>\n",
              "    \n",
              "\n",
              "        <tr class=\"default\">\n",
              "            <td><i class=\"copy-paste-icon\"\n",
              "                 onclick=\"copyToClipboard('n_jobs',\n",
              "                          this.parentElement.nextElementSibling)\"\n",
              "            ></i></td>\n",
              "            <td class=\"param\">n_jobs&nbsp;</td>\n",
              "            <td class=\"value\">None</td>\n",
              "        </tr>\n",
              "    \n",
              "\n",
              "        <tr class=\"default\">\n",
              "            <td><i class=\"copy-paste-icon\"\n",
              "                 onclick=\"copyToClipboard('l1_ratio',\n",
              "                          this.parentElement.nextElementSibling)\"\n",
              "            ></i></td>\n",
              "            <td class=\"param\">l1_ratio&nbsp;</td>\n",
              "            <td class=\"value\">None</td>\n",
              "        </tr>\n",
              "    \n",
              "                  </tbody>\n",
              "                </table>\n",
              "            </details>\n",
              "        </div>\n",
              "    </div></div></div></div></div><script>function copyToClipboard(text, element) {\n",
              "    // Get the parameter prefix from the closest toggleable content\n",
              "    const toggleableContent = element.closest('.sk-toggleable__content');\n",
              "    const paramPrefix = toggleableContent ? toggleableContent.dataset.paramPrefix : '';\n",
              "    const fullParamName = paramPrefix ? `${paramPrefix}${text}` : text;\n",
              "\n",
              "    const originalStyle = element.style;\n",
              "    const computedStyle = window.getComputedStyle(element);\n",
              "    const originalWidth = computedStyle.width;\n",
              "    const originalHTML = element.innerHTML.replace('Copied!', '');\n",
              "\n",
              "    navigator.clipboard.writeText(fullParamName)\n",
              "        .then(() => {\n",
              "            element.style.width = originalWidth;\n",
              "            element.style.color = 'green';\n",
              "            element.innerHTML = \"Copied!\";\n",
              "\n",
              "            setTimeout(() => {\n",
              "                element.innerHTML = originalHTML;\n",
              "                element.style = originalStyle;\n",
              "            }, 2000);\n",
              "        })\n",
              "        .catch(err => {\n",
              "            console.error('Failed to copy:', err);\n",
              "            element.style.color = 'red';\n",
              "            element.innerHTML = \"Failed!\";\n",
              "            setTimeout(() => {\n",
              "                element.innerHTML = originalHTML;\n",
              "                element.style = originalStyle;\n",
              "            }, 2000);\n",
              "        });\n",
              "    return false;\n",
              "}\n",
              "\n",
              "document.querySelectorAll('.fa-regular.fa-copy').forEach(function(element) {\n",
              "    const toggleableContent = element.closest('.sk-toggleable__content');\n",
              "    const paramPrefix = toggleableContent ? toggleableContent.dataset.paramPrefix : '';\n",
              "    const paramName = element.parentElement.nextElementSibling.textContent.trim();\n",
              "    const fullParamName = paramPrefix ? `${paramPrefix}${paramName}` : paramName;\n",
              "\n",
              "    element.setAttribute('title', fullParamName);\n",
              "});\n",
              "</script></body>"
            ],
            "text/plain": [
              "LogisticRegression(max_iter=1000, random_state=0)"
            ]
          },
          "execution_count": 25,
          "metadata": {},
          "output_type": "execute_result"
        }
      ],
      "source": [
        "input_df = df.drop(columns=[\"Outcome\"])\n",
        "targets_df = df[\"Outcome\"]\n",
        "seed = 0\n",
        "# Use indices to preserve mapping\n",
        "indices = input_df.index.to_numpy()\n",
        "\n",
        "# Split to train/test set\n",
        "x_train_idx, x_test_idx, y_train, y_test = train_test_split(\n",
        "    indices, targets_df, test_size=0.3, random_state=seed\n",
        ")\n",
        "\n",
        "x_train = input_df.loc[x_train_idx].to_numpy()\n",
        "x_test = input_df.loc[x_test_idx].to_numpy()\n",
        "\n",
        "print(f\"Train set - Rows: {x_train.shape[0]} - Features: {x_train.shape[1]}\")\n",
        "print(f\"Test set - Rows: {x_test.shape[0]} - Features: {x_test.shape[1]}\")\n",
        "\n",
        "# Train model\n",
        "model = LogisticRegression(max_iter=1000, random_state=seed)\n",
        "model.fit(x_train, y_train)\n"
      ]
    },
    {
      "cell_type": "markdown",
      "metadata": {
        "id": "dISV32DgI3F5"
      },
      "source": [
        "# Evaluate Model on test set"
      ]
    },
    {
      "cell_type": "code",
      "execution_count": 9,
      "metadata": {
        "colab": {
          "base_uri": "https://localhost:8080/"
        },
        "id": "T1h5bSo4InbZ",
        "outputId": "7c75b4a9-9445-4d4a-bdff-54514e5cd9dd"
      },
      "outputs": [
        {
          "name": "stdout",
          "output_type": "stream",
          "text": [
            "The accuracy of the model is: 77.92\n",
            "The accuracy of the model is: 76.54\n"
          ]
        }
      ],
      "source": [
        "y_pred = model.predict(x_test)\n",
        "accuracy = accuracy_score(y_test, y_pred)\n",
        "accuracy_percentage = round(accuracy * 100, 2)\n",
        "\n",
        "y_pred_train = model.predict(x_train)\n",
        "accuracy_train_set = accuracy_score(y_pred_train, y_train)\n",
        "accuracy_train_set_percentage = round(accuracy_train_set * 100, 2)\n",
        "print(f\"The accuracy of the model is: {accuracy_percentage}\")\n",
        "print(f\"The accuracy of the model is: {accuracy_train_set_percentage}\")"
      ]
    },
    {
      "cell_type": "markdown",
      "metadata": {
        "id": "vUY0bWuzOI3K"
      },
      "source": [
        "### Ερώτηση 6\n",
        "Απο το παραπάνω cell βλέπουμε ότι τα αποτελέσματα τόσο για το train όσο και για το test είναι αρκετά κοντά. Επομένως, δεν έχει γίνει overfitting στα δεδομένα εκπαίδευσης."
      ]
    },
    {
      "cell_type": "code",
      "execution_count": 10,
      "metadata": {
        "id": "UwLZhyxROI3L",
        "outputId": "cf124a38-1852-4194-b2a6-e34a401238d5"
      },
      "outputs": [
        {
          "data": {
            "image/png": "[encoded data removed]",
            "text/plain": [
              "<Figure size 1400x400 with 1 Axes>"
            ]
          },
          "metadata": {},
          "output_type": "display_data"
        }
      ],
      "source": [
        "predictions_df = input_df.loc[x_test_idx]\n",
        "predictions_df[\"Prediction\"] = y_pred\n",
        "predictions_df[\"Outcome\"] = y_test\n",
        "df_0_25 = predictions_df[predictions_df[\"Age\"] <= 25]\n",
        "df_25_50 = predictions_df[(predictions_df[\"Age\"] > 25) & (predictions_df[\"Age\"] <= 50)]\n",
        "df_50 = predictions_df[predictions_df[\"Age\"] > 50]\n",
        "accuracy_0_25 = round(\n",
        "    accuracy_score(df_0_25[\"Prediction\"], df_0_25[\"Outcome\"]) * 100, 2\n",
        ")\n",
        "accuracy_25_50 = round(\n",
        "    accuracy_score(df_25_50[\"Prediction\"], df_25_50[\"Outcome\"]) * 100, 2\n",
        ")\n",
        "accuracy_50 = round(accuracy_score(df_50[\"Prediction\"], df_50[\"Outcome\"]) * 100, 2)\n",
        "accuracy_df = pd.DataFrame(\n",
        "    {\n",
        "        \"accuracy\": [accuracy_0_25, accuracy_25_50, accuracy_50],\n",
        "    },\n",
        "    index=[\"0-25\", \"25-50\", \"50+\"],\n",
        ")\n",
        "\n",
        "# Count values in 'Outcome' column\n",
        "plt.figure(figsize=(14, 4))\n",
        "accuracy_df[\"accuracy\"].plot(kind=\"bar\")\n",
        "plt.ylabel(\"Percentage\")\n",
        "plt.title(\"Accuracy per Age Group\")\n",
        "plt.show()"
      ]
    },
    {
      "cell_type": "markdown",
      "metadata": {
        "id": "60Djx0hgOI3L"
      },
      "source": [
        "### Ερώτηση 7\n",
        "Παρατηρούμε ότι υπάρχουν διαφορές στην απόδοση του ταξινομητή ανάλογα την ηλικία.\n",
        "\n",
        "Η χειρότερη απόδοση παρατηρείται στις ηλικίες 25-50. Είναι περίεργο το ότι η καλύτερη απόδοση παρουσιάζεται στο γρκουπ 50+, το οποίο όπως είχαμε δει νωρίτερα αποτελεί μικρό μέρος του δείγματός μας. Αυτή η καλή απόδοση μπορεί να οφείλεται και στο μικρό σχετικά δείγμα που έχουμε."
      ]
    },
    {
      "cell_type": "markdown",
      "metadata": {
        "id": "dnfuUdnzOI3L"
      },
      "source": [
        "### Ερώτηση 8\n",
        "Εφόσον μιλάμε για ένα μοντέλο που κάνει προβλέψεις για κάποια ασθένεια, θεωρώ ότι είναι καλύτερο να προβλέψει ότι κάποιος πάσχει απο διαβήτη ενώ στην πραγματικότητα δεν πάσχει (False Positive) παρά να προβλέψει το αντίθετο (False Negative). Καταλήγουμε σε αυτό, καθώς αν προβλέψουμε λανθασμένα ότι κάποιος πάσχει απο διαβήτη ενώ δεν πάσχει κατά πάσα πιθανότητα θα κάνει περαιτέρω εξετάσεις που θα δείξουν ότι τελικά ειναι υγιής. Αντιθέτως, αν προβλέψουμε ότι κάποιος δεν πάσχει απο διαβήτη τότε μπορεί να μην προβεί σε άλλες εξετάσεις και εν συνεχεία η υγία του να επιδεινωθεί αφού θα πιστεύει ότι δεν έχει διαβήτη και δεν θα ακολουθήσει κάποια σχετική θεραπεία."
      ]
    },
    {
      "cell_type": "markdown",
      "metadata": {
        "id": "uejYCdqmOI3L"
      },
      "source": [
        "## Train with varying seed"
      ]
    },
    {
      "cell_type": "code",
      "execution_count": 11,
      "metadata": {
        "id": "pYSdPOirOI3L",
        "outputId": "fe77457d-807c-4474-82c6-459102bbc38b"
      },
      "outputs": [
        {
          "name": "stdout",
          "output_type": "stream",
          "text": [
            "Mean Accuracy Percentage for seeds 0 to 9: 77.27\n",
            "Standard Deviation Accuracy Percentage for seeds 0 to 9: 1.87\n"
          ]
        }
      ],
      "source": [
        "input_df = df.drop(columns=[\"Outcome\"])\n",
        "targets_df = df[\"Outcome\"]\n",
        "\n",
        "# Use indices to preserve mapping\n",
        "indices = input_df.index.to_numpy()\n",
        "\n",
        "accuracies = []\n",
        "for seed in range(0, 10):\n",
        "    # Split to train/test set\n",
        "    x_train_idx, x_test_idx, y_train, y_test = train_test_split(\n",
        "        indices, targets_df, test_size=0.3, random_state=seed\n",
        "    )\n",
        "\n",
        "    x_train = input_df.loc[x_train_idx].to_numpy()\n",
        "    x_test = input_df.loc[x_test_idx].to_numpy()\n",
        "\n",
        "    # Train model\n",
        "    model = LogisticRegression(max_iter=1000, random_state=seed)\n",
        "    model.fit(x_train, y_train)\n",
        "    y_pred = model.predict(x_test)\n",
        "    accuracy = accuracy_score(y_test, y_pred)\n",
        "    accuracy_percentage = round(accuracy * 100, 2)\n",
        "    accuracies.append(accuracy_percentage)\n",
        "\n",
        "\n",
        "print(f\"Mean Accuracy Percentage for seeds 0 to 9: {np.mean(accuracies):.2f}\")\n",
        "print(\n",
        "    f\"Standard Deviation Accuracy Percentage for seeds 0 to 9: {np.std(accuracies):.2f}\"\n",
        ")\n"
      ]
    },
    {
      "cell_type": "code",
      "execution_count": 12,
      "metadata": {
        "id": "UxRlYmJbOI3L",
        "outputId": "f4d6665b-7f28-4883-fbca-ee01196efe0e"
      },
      "outputs": [
        {
          "name": "stdout",
          "output_type": "stream",
          "text": [
            "Mean Accuracy Percentage for seeds 0 to 9 after MinMax: 76.97\n",
            "Standard Deviation Accuracy Percentage for seeds 0 to 9 after MinMax: 2.25\n"
          ]
        }
      ],
      "source": [
        "from sklearn.preprocessing import MinMaxScaler\n",
        "\n",
        "input_df = df.drop(columns=[\"Outcome\"])\n",
        "targets_df = df[\"Outcome\"]\n",
        "\n",
        "# Use indices to preserve mapping\n",
        "indices = input_df.index.to_numpy()\n",
        "\n",
        "accuracies = []\n",
        "coefficients = []\n",
        "for seed in range(0, 10):\n",
        "    # Split to train/test set\n",
        "    x_train_idx, x_test_idx, y_train, y_test = train_test_split(\n",
        "        indices, targets_df, test_size=0.3, random_state=seed\n",
        "    )\n",
        "\n",
        "    x_train = input_df.loc[x_train_idx].to_numpy()\n",
        "    x_test = input_df.loc[x_test_idx].to_numpy()\n",
        "\n",
        "    # Min-Max\n",
        "    scaler = MinMaxScaler()\n",
        "    x_train = scaler.fit_transform(x_train)\n",
        "    x_test = scaler.transform(x_test)\n",
        "\n",
        "    # Train model\n",
        "    model = LogisticRegression(max_iter=1000, random_state=seed)\n",
        "    model.fit(x_train, y_train)\n",
        "    y_pred = model.predict(x_test)\n",
        "    accuracy = accuracy_score(y_test, y_pred)\n",
        "    accuracy_percentage = round(accuracy * 100, 2)\n",
        "    accuracies.append(accuracy_percentage)\n",
        "    # Keep coefficients\n",
        "    coefficients.append(model.coef_[0])\n",
        "\n",
        "print(\n",
        "    f\"Mean Accuracy Percentage for seeds 0 to 9 after MinMax: {np.mean(accuracies):.2f}\"\n",
        ")\n",
        "print(\n",
        "    f\"Standard Deviation Accuracy Percentage for seeds 0 to 9 after MinMax: {np.std(accuracies):.2f}\"\n",
        ")\n"
      ]
    },
    {
      "cell_type": "markdown",
      "metadata": {
        "id": "EGrbESRMMG_p"
      },
      "source": [
        "# Feature Importance"
      ]
    },
    {
      "cell_type": "code",
      "execution_count": 13,
      "metadata": {
        "colab": {
          "base_uri": "https://localhost:8080/",
          "height": 472
        },
        "id": "qPuU21SdK5Ik",
        "outputId": "95278896-eb20-4d7c-ad23-24639eb273f2"
      },
      "outputs": [
        {
          "data": {
            "image/png": "[encoded data removed]",
            "text/plain": [
              "<Figure size 640x480 with 1 Axes>"
            ]
          },
          "metadata": {},
          "output_type": "display_data"
        }
      ],
      "source": [
        "importance_weights = np.abs(np.mean(coefficients, axis=0))\n",
        "coef_df = pd.DataFrame({\"Feature\": input_df.columns, \"Importance\": importance_weights})\n",
        "coef_df = coef_df.sort_values(by=\"Importance\", ascending=True)\n",
        "plt.barh(coef_df[\"Feature\"], coef_df[\"Importance\"])\n",
        "plt.title(\"Logistic Regression Weights\")\n",
        "plt.xlabel(\"Features\")\n",
        "plt.ylabel(\"Coefficients\")\n",
        "plt.show()"
      ]
    },
    {
      "cell_type": "markdown",
      "metadata": {
        "id": "1VDZ44wrOI3M"
      },
      "source": [
        "### Ερώτηση 10\n",
        "Απο τα βάρη που ανατέθηκαν σε κάθε feature, φαίνεται ότι τα 3 πιο σημαντικά είναι τα Glucose, BMI, DiabetesPedigreeFunction. Το ότι αυτά τα features έχουν τα μεγαλύτερα βάρη σημαίνει ότι επηρεάζουν σε μεγάλο βαθμό την πρόβλεψη του μοντελου, και επομένως, θεωρούνται τα πιο σημαντικά για το μοντέλο. Παρατηρούμε επίσης, ότι 2 απο τα 3 ακολουθούν και κανονική κατανομή, κάτι που επιβεβαιώνει όσα περιγράφηκαν στα πρώτα ερωτήματα σχετικά με την ποιότητα των δεδομένων και των features."
      ]
    },
    {
      "cell_type": "markdown",
      "metadata": {
        "id": "SOEEAAy6OI3M"
      },
      "source": [
        "# Part B"
      ]
    },
    {
      "cell_type": "code",
      "execution_count": 14,
      "metadata": {
        "id": "NSH3DXHLOI3M",
        "outputId": "567a7ac3-ba89-4fd4-83de-bb0526683e3f"
      },
      "outputs": [
        {
          "name": "stdout",
          "output_type": "stream",
          "text": [
            "MAE: 23.60\n",
            "MSE: 929.89\n"
          ]
        }
      ],
      "source": [
        "from sklearn.linear_model import LinearRegression\n",
        "from sklearn.metrics import mean_absolute_error, mean_squared_error\n",
        "\n",
        "input_df = df.drop(\n",
        "    columns=[\n",
        "        \"Outcome\",\n",
        "        \"Glucose\",\n",
        "        \"SkinThickness\",\n",
        "        \"Insulin\",\n",
        "        \"DiabetesPedigreeFunction\",\n",
        "    ]\n",
        ")\n",
        "targets_df = df[\"Glucose\"]\n",
        "\n",
        "# Use indices to preserve mapping\n",
        "indices = input_df.index.to_numpy()\n",
        "\n",
        "accuracies = []\n",
        "seed = 0\n",
        "# Split to train/test set\n",
        "x_train_idx, x_test_idx, y_train, y_test = train_test_split(\n",
        "    indices, targets_df, test_size=0.3, random_state=seed\n",
        ")\n",
        "\n",
        "x_train = input_df.loc[x_train_idx].to_numpy()\n",
        "x_test = input_df.loc[x_test_idx].to_numpy()\n",
        "\n",
        "# Train model\n",
        "model = LinearRegression()\n",
        "model.fit(x_train, y_train)\n",
        "y_pred = model.predict(x_test)\n",
        "\n",
        "# Compute errors\n",
        "mae = mean_absolute_error(y_test, y_pred)\n",
        "mse = mean_squared_error(y_test, y_pred)\n",
        "\n",
        "print(f\"MAE: {mae:.2f}\")\n",
        "print(f\"MSE: {mse:.2f}\")\n"
      ]
    },
    {
      "cell_type": "markdown",
      "metadata": {
        "id": "Fg0sWE18OI3M"
      },
      "source": [
        "### Ερώτηση 2\n",
        "Στο συγκεκριμένο πρόβλημα πιστεύω ότι η χρήση του MAE είναι καλύτερη, καθώς το MSE είναι πολύ ευαίσθητο λόγω του τετραγώνου και εκτοξεύεται όταν το μοντέλο παρεκλίνει έστω και λίγο στις προβλέψεις του. Επίσης, το ΜΑΕ είναι και ευκολότερα ερμηνεύσιμο καθώς το 23.6 που υπολογίσαμε είναι εύκολο να ερμηνευθεί απο τον οποιονδήποτε και να κατανοήσει ότι οι προβλέψεις μας έχουν μέσο απόλυτο σφάλμα 23.6 μονάδες απο την πραγματική μέτρηση. Ειδικά σε αυτό το πρόβλημα που οι τιμές της γλυκόζης κυμαίνονται απο 0-199 και με Google Search βλέπουμε ότι τα όρια είναι (70,99), (100-125), (>125) το ΜΑΕ είναι αρκετά επεξηγηματικό.\n",
        "\n",
        "Βέβαια, αν θέλαμε μεγάλη ακρίβεια και η απόκλιση ήταν αποδεκτή σε πολύ μικρά επίπεδα, ίσως να έπρεπε να παρατηρούμε το MSE έτσι ώστε να είναι ευκολότερο να παρατηρήσουμε ακόμα και πολύ μικρές μεταβολές οι οποίες θα ανεβάσουν το MSE πιο απότομα απ'ότι το ΜΑΕ."
      ]
    },
    {
      "cell_type": "code",
      "execution_count": 15,
      "metadata": {
        "id": "yInqXsqUOI3M",
        "outputId": "de824960-1d8c-4438-e875-b5f12eb225e5"
      },
      "outputs": [
        {
          "name": "stdout",
          "output_type": "stream",
          "text": [
            "alpha=0.2 - MAE: 23.59\n",
            "alpha=0.4 - MAE: 23.59\n",
            "alpha=0.6 - MAE: 23.58\n",
            "alpha=0.8 - MAE: 23.58\n",
            "alpha=1.0 - MAE: 23.57\n"
          ]
        }
      ],
      "source": [
        "from sklearn.linear_model import Lasso\n",
        "from sklearn.metrics import mean_absolute_error, mean_squared_error\n",
        "\n",
        "input_df = df.drop(\n",
        "    columns=[\n",
        "        \"Outcome\",\n",
        "        \"Glucose\",\n",
        "        \"SkinThickness\",\n",
        "        \"Insulin\",\n",
        "        \"DiabetesPedigreeFunction\",\n",
        "    ]\n",
        ")\n",
        "targets_df = df[\"Glucose\"]\n",
        "\n",
        "# Use indices to preserve mapping\n",
        "indices = input_df.index.to_numpy()\n",
        "\n",
        "accuracies = []\n",
        "seed = 0\n",
        "# Split to train/test set\n",
        "x_train_idx, x_test_idx, y_train, y_test = train_test_split(\n",
        "    indices, targets_df, test_size=0.3, random_state=seed\n",
        ")\n",
        "\n",
        "x_train = input_df.loc[x_train_idx].to_numpy()\n",
        "x_test = input_df.loc[x_test_idx].to_numpy()\n",
        "\n",
        "# Train model\n",
        "alphas = [0.2, 0.4, 0.6, 0.8, 1.0]\n",
        "for alpha in alphas:\n",
        "    model = Lasso(alpha=alpha)\n",
        "    model.fit(x_train, y_train)\n",
        "    y_pred = model.predict(x_test)\n",
        "\n",
        "    # Compute errors\n",
        "    mae = mean_absolute_error(y_test, y_pred)\n",
        "    mse = mean_squared_error(y_test, y_pred)\n",
        "\n",
        "    print(f\"alpha={alpha} - MAE: {mae:.2f}\")\n"
      ]
    },
    {
      "cell_type": "markdown",
      "metadata": {
        "id": "B5Skxd7YOI3M"
      },
      "source": [
        "### Ερώτημα 3\n",
        "\n",
        "**Mean Absolute Error per Lasso alpha (λ) regularization parameter**\n",
        "\n",
        "| Lasso alpha (λ) | Mean Absolute Error (MAE) |\n",
        "|-----------------|---------------------------|\n",
        "| 0.2             | 23.59                     |\n",
        "| 0.4             | 23.59                     |\n",
        "| 0.6             | 23.58                     |\n",
        "| 0.8             | 23.58                     |\n",
        "| 1.0             | 23.57                     |\n"
      ]
    },
    {
      "cell_type": "code",
      "execution_count": 16,
      "metadata": {
        "id": "rNtjg0I6OI3M",
        "outputId": "2702b4e0-0243-472f-fecb-fecd3517597d"
      },
      "outputs": [
        {
          "name": "stdout",
          "output_type": "stream",
          "text": [
            "alpha=0.2 - MAE: 23.58\n",
            "alpha=0.4 - MAE: 23.58\n",
            "alpha=0.6 - MAE: 23.58\n",
            "alpha=0.8 - MAE: 23.57\n",
            "alpha=1.0 - MAE: 23.57\n"
          ]
        }
      ],
      "source": [
        "input_df.drop(columns=input_df.columns[np.argmin(model.coef_)], inplace=True)\n",
        "\n",
        "# Use indices to preserve mapping\n",
        "indices = input_df.index.to_numpy()\n",
        "\n",
        "accuracies = []\n",
        "seed = 0\n",
        "# Split to train/test set\n",
        "x_train_idx, x_test_idx, y_train, y_test = train_test_split(\n",
        "    indices, targets_df, test_size=0.3, random_state=seed\n",
        ")\n",
        "\n",
        "x_train = input_df.loc[x_train_idx].to_numpy()\n",
        "x_test = input_df.loc[x_test_idx].to_numpy()\n",
        "\n",
        "# Train model\n",
        "alphas = [0.2, 0.4, 0.6, 0.8, 1.0]\n",
        "for alpha in alphas:\n",
        "    model = Lasso(alpha=alpha)\n",
        "    model.fit(x_train, y_train)\n",
        "    y_pred = model.predict(x_test)\n",
        "\n",
        "    # Compute errors\n",
        "    mae = mean_absolute_error(y_test, y_pred)\n",
        "    mse = mean_squared_error(y_test, y_pred)\n",
        "\n",
        "    print(f\"alpha={alpha} - MAE: {mae:.2f}\")\n"
      ]
    },
    {
      "cell_type": "markdown",
      "metadata": {
        "id": "4a8mRWiSOI3M"
      },
      "source": [
        "### Ερώτημα 4\n",
        "\n",
        "**Mean Absolute Error per Lasso alpha (λ) regularization parameter without 'Pregnancies' feature**\n",
        "\n",
        "| Lasso alpha (λ) | Mean Absolute Error (MAE) |\n",
        "|-----------------|---------------------------|\n",
        "| 0.2             | 23.58                     |\n",
        "| 0.4             | 23.58                     |\n",
        "| 0.6             | 23.58                     |\n",
        "| 0.8             | 23.57                     |\n",
        "| 1.0             | 23.57                     |\n",
        "\n",
        "Παρατηρούμε ότι αφού πετάξαμε το λιγότερο σημαντικό feature (Pregnancies) τα αποτελέσματα έμειναν σχεδόν τα ίδια και πολύ οριακά καλύτερα. Επομένως, ρίξαμε την πολυπλοκότητα του μοντέλου και δεν χάσαμε καθόλου απο την απόδοση."
      ]
    }
  ],
  "metadata": {
    "colab": {
      "provenance": []
    },
    "kernelspec": {
      "display_name": ".venv",
      "language": "python",
      "name": "python3"
    },
    "language_info": {
      "codemirror_mode": {
        "name": "ipython",
        "version": 3
      },
      "file_extension": ".py",
      "mimetype": "text/x-python",
      "name": "python",
      "nbconvert_exporter": "python",
      "pygments_lexer": "ipython3",
      "version": "3.10.0"
    }
  },
  "nbformat": 4,
  "nbformat_minor": 0
}
